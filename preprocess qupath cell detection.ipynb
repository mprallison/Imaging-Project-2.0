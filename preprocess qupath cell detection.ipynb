{
 "cells": [
   
  {
   "cell_type": "code",
   "execution_count": 1,
   "metadata": {},
   "outputs": [],
   "source": [
    "import pandas as pd\n",
    "from tqdm import tqdm"
   ]
  },
  {
   "cell_type": "code",
   "execution_count": 2,
   "metadata": {},
   "outputs": [
    {
     "name": "stderr",
     "output_type": "stream",
     "text": [
      "100%|██████████████████████████████████████████████████████████████████████████████| 6993/6993 [01:33<00:00, 75.12it/s]\n"
     ]
    }
   ],
   "source": [
    "file = open('test files/detected_results.txt','r')\n",
    "all_lines = file.readlines()\n",
    "\n",
    "df_columns = all_lines[0].split('\\t')\n",
    "df_columns[-1] = df_columns[-1][:-1]\n",
    "\n",
    "df = pd.DataFrame(columns = df_columns)\n",
    "\n",
    "for line in tqdm(all_lines[1:]):\n",
    "    split_line = line.split('\\t')\n",
    "    split_line[-1] = split_line[-1][:-1]\n",
    "    line_dict = dict(zip(df_columns,split_line))\n",
    "    df = df.append(line_dict, ignore_index=True)\n",
    "    \n",
    "file.close()"
   ]
  },
  {
   "cell_type": "code",
   "execution_count": 3,
   "metadata": {},
   "outputs": [],
   "source": [
    "df = df[df.columns[5:]].copy()\n",
    "for column in df.columns:\n",
    "    df[column] = df[column].apply(lambda x : float(x))"
   ]
  },
  {
   "cell_type": "code",
   "execution_count": 4,
   "metadata": {},
   "outputs": [],
   "source": [
    "#for non-square image, would need to calculate x and y as separate image size and dimension\n",
    "\n",
    "image_size = 2845 #number of pixels in one image dimension\n",
    "image_dim = 1181.05 #length of image dimension\n",
    "\n",
    "#calculate cell centroid coordinates as pixel\n",
    "df['Centroid X pixel'] = df['Centroid X Âµm']*image_size/image_dim\n",
    "df['Centroid Y pixel'] = df['Centroid Y Âµm']*image_size/image_dim\n",
    "\n",
    "df['Centroid X pixel'] = df['Centroid X pixel'].apply(lambda x:int(x))\n",
    "df['Centroid Y pixel'] = df['Centroid Y pixel'].apply(lambda x:int(x))"
   ]
  },
  {
   "cell_type": "code",
   "execution_count": 5,
   "metadata": {},
   "outputs": [],
   "source": [
    "#drop extra columns and rename channel columns\n",
    "\n",
    "df = df[['Centroid X pixel',\n",
    "        'Centroid Y pixel',\n",
    "        'Nucleus: Ch3-T1 mean',#nucleus\n",
    "        'Nucleus: Ch2 GaAsP-T3 mean',#red\n",
    "        'Nucleus: Ch3-T2 mean',#green\n",
    "        'Nucleus: Ch1-T4 mean',#blue\n",
    "        'Nucleus: Area',\n",
    "        'Nucleus: Circularity']].copy()\n",
    "\n",
    "df = df.rename(columns = {'Nucleus: Ch3-T1 mean':'channel_nucleus',\n",
    "                            'Nucleus: Ch3-T2 mean':'channel_green',\n",
    "                            'Nucleus: Ch1-T4 mean':'channel_blue',\n",
    "                            'Nucleus: Ch2 GaAsP-T3 mean':'channel_red'})"
   ]
  },
  {
   "cell_type": "code",
   "execution_count": 6,
   "metadata": {},
   "outputs": [],
   "source": [
    "#add sum of channels column\n",
    "df['channel_sum'] = df['channel_red']+df['channel_green']+df['channel_blue']"
   ]
  },
  {
   "cell_type": "code",
   "execution_count": 7,
   "metadata": {},
   "outputs": [],
   "source": [
    "#add columns of channel value as fraction of total\n",
    "#all cells to be calculated as ratios\n",
    "\n",
    "df['ratio_red'] = (df['channel_red']/df['channel_sum'])\n",
    "df['ratio_green'] = (df['channel_green']/df['channel_sum'])\n",
    "df['ratio_blue'] = (df['channel_blue']/df['channel_sum'])"
   ]
  },
  {
   "cell_type": "code",
   "execution_count": 8,
   "metadata": {},
   "outputs": [],
   "source": [
    "#add channel RGB image value as ratio of sum of all channels\n",
    "#e.g. R=1,G=0,B=0 ratio would be rgb red = 255,rgb green = 0,rgb blue = 0\n",
    "#and  R=1,G=1,B=1 ratio would be rgb red = 85,rgb green = 85,rgb blue = 85\n",
    "\n",
    "df['rgb_red'] = (df['channel_red']/df['channel_sum'])*255\n",
    "df['rgb_green'] = (df['channel_green']/df['channel_sum'])*255\n",
    "df['rgb_blue'] = (df['channel_blue']/df['channel_sum'])*255"
   ]
  },
  {
   "cell_type": "code",
   "execution_count": 9,
   "metadata": {},
   "outputs": [],
   "source": [
    "df = df.rename(columns={'Centroid X pixel':'centroid_x','Centroid Y pixel':'centroid_y','Nucleus: Area':'nucleus_area','Nucleus: Circularity':'nucleus_circularity'})"
   ]
  },
  {
   "cell_type": "code",
   "execution_count": 10,
   "metadata": {},
   "outputs": [],
   "source": [
    "df = df[['centroid_x','centroid_y','channel_nucleus','nucleus_area','nucleus_circularity',\n",
    "              'channel_red','channel_green','channel_blue','channel_sum','ratio_red','ratio_green',\n",
    "              'ratio_blue','rgb_red','rgb_green','rgb_blue']].copy()"
   ]
  },
  {
   "cell_type": "code",
   "execution_count": 11,
   "metadata": {},
   "outputs": [],
   "source": [
    "df.to_csv('test files/detected_results.csv',index=False)"
   ]
  },
  {
   "cell_type": "code",
   "execution_count": null,
   "metadata": {},
   "outputs": [],
   "source": []
  }
 ],
 "metadata": {
  "kernelspec": {
   "display_name": "Python 3",
   "language": "python",
   "name": "python3"
  },
  "language_info": {
   "codemirror_mode": {
    "name": "ipython",
    "version": 3
   },
   "file_extension": ".py",
   "mimetype": "text/x-python",
   "name": "python",
   "nbconvert_exporter": "python",
   "pygments_lexer": "ipython3",
   "version": "3.7.4"
  }
 },
 "nbformat": 4,
 "nbformat_minor": 4
}
