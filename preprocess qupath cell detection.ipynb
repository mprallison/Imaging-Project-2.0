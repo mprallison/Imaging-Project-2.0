{
 "cells": [
  {
   "cell_type": "code",
   "execution_count": 1,
   "metadata": {},
   "outputs": [],
   "source": [
    "#qupath edge detection results didn't format columns in for simple read into dataframe\n",
    "#so reading lines using tab separator into df\n",
    "#module using glob to iterate through image files\n",
    "\n",
    "#backend to be buried away:\n",
    "\n",
    "#read cell detection data\n",
    "#return centroid nucleus location as  x,y pixel coordinates\n",
    "#calculate channel labels as ratios and magnitude relatvie to max. channel value\n",
    "#tidy column labels"
   ]
  },
  {
   "cell_type": "code",
   "execution_count": 4,
   "metadata": {},
   "outputs": [],
   "source": [
    "import pandas as pd\n",
    "from tqdm import tqdm\n",
    "import glob"
   ]
  },
  {
   "cell_type": "markdown",
   "metadata": {},
   "source": [
    "**MODULES TO LOOP THROUGH 5 LABEL IMAGE FILES**"
   ]
  },
  {
   "cell_type": "code",
   "execution_count": 5,
   "metadata": {},
   "outputs": [],
   "source": [
    "#5 label column headers\n",
    "df_columns = ['Image', 'Name', 'Class', 'Parent', 'ROI', 'Centroid X µm',\n",
    "       'Centroid Y µm', 'Nucleus: Area', 'Nucleus: Perimeter',\n",
    "       'Nucleus: Circularity', 'Nucleus: Max caliper', 'Nucleus: Min caliper',\n",
    "       'Nucleus: Eccentricity', 'Nucleus: EBFP2 Lambda mean',\n",
    "       'Nucleus: EBFP2 Lambda sum', 'Nucleus: EBFP2 Lambda std dev',\n",
    "       'Nucleus: EBFP2 Lambda max', 'Nucleus: EBFP2 Lambda min',\n",
    "       'Nucleus: EBFP2 Lambda range', 'Nucleus: T-sapphire Lambda mean',\n",
    "       'Nucleus: T-sapphire Lambda sum', 'Nucleus: T-sapphire Lambda std dev',\n",
    "       'Nucleus: T-sapphire Lambda max', 'Nucleus: T-sapphire Lambda min',\n",
    "       'Nucleus: T-sapphire Lambda range', 'Nucleus: Venus Lambda mean',\n",
    "       'Nucleus: Venus Lambda sum', 'Nucleus: Venus Lambda std dev',\n",
    "       'Nucleus: Venus Lambda max', 'Nucleus: Venus Lambda min',\n",
    "       'Nucleus: Venus Lambda range', 'Nucleus: mOrange2 Lambda mean',\n",
    "       'Nucleus: mOrange2 Lambda sum', 'Nucleus: mOrange2 Lambda std dev',\n",
    "       'Nucleus: mOrange2 Lambda max', 'Nucleus: mOrange2 Lambda min',\n",
    "       'Nucleus: mOrange2 Lambda range', 'Nucleus: Katushka Lambda mean',\n",
    "       'Nucleus: Katushka Lambda sum', 'Nucleus: Katushka Lambda std dev',\n",
    "       'Nucleus: Katushka Lambda max', 'Nucleus: Katushka Lambda min',\n",
    "       'Nucleus: Katushka Lambda range', 'Nucleus: DRAQ5 Lambda mean',\n",
    "       'Nucleus: DRAQ5 Lambda sum', 'Nucleus: DRAQ5 Lambda std dev',\n",
    "       'Nucleus: DRAQ5 Lambda max', 'Nucleus: DRAQ5 Lambda min',\n",
    "       'Nucleus: DRAQ5 Lambda range']\n",
    "\n",
    "df = pd.DataFrame(columns=df_columns)"
   ]
  },
  {
   "cell_type": "code",
   "execution_count": 6,
   "metadata": {},
   "outputs": [
    {
     "name": "stderr",
     "output_type": "stream",
     "text": [
      "100%|████████████████████████████████████████████████████████████████████████████████████| 8/8 [00:00<00:00, 20.96it/s]\n"
     ]
    }
   ],
   "source": [
    "#use glob to iter through image folder\n",
    "#concat rows from all images into single df\n",
    "\n",
    "for path in tqdm(glob.glob(r\"C:\\Users\\mrq2226\\Desktop\\imaging\\5_dim_images\\*\")):\n",
    "    data = pd.read_csv('5_dim_images\\Image_009_measurements.txt', sep='\\t', header=None)\n",
    "    data.columns = data.loc[0]\n",
    "    data = data.drop(0)\n",
    "    \n",
    "    df = df.append(data,sort=False)\n",
    "    \n",
    "df = df.reset_index().drop(columns='index')"
   ]
  },
  {
   "cell_type": "markdown",
   "metadata": {},
   "source": [
    "**READ SINGLE 5 LABEL IMAGE**"
   ]
  },
  {
   "cell_type": "code",
   "execution_count": 15,
   "metadata": {},
   "outputs": [],
   "source": [
    "df = pd.read_csv('5_dim_images\\Image_009_measurements.txt', sep='\\t', header=None)\n",
    "\n",
    "df.columns = df.loc[0]\n",
    "df = df.drop(0).reset_index().drop(columns='index')\n",
    "\n",
    "#return values as floats\n",
    "\n",
    "df = df[df.columns[5:]].copy()\n",
    "for column in df.columns[2:]:\n",
    "    df[column] = df[column].apply(lambda x : float(x))\n",
    "    \n",
    "df = df.fillna(0)"
   ]
  },
  {
   "cell_type": "markdown",
   "metadata": {},
   "source": [
    "**PREPROCESS**"
   ]
  },
  {
   "cell_type": "code",
   "execution_count": 20,
   "metadata": {},
   "outputs": [],
   "source": [
    "#want to define centroid_x,y as pixel rather than distance\n",
    "#need image size and (pixel size or #pixels \n",
    "\n",
    "df['centroid_x'] = df['Centroid X µm']#*image_size/image_dim\n",
    "df['centroid_y'] = df['Centroid Y µm']#*image_size/image_dim\n",
    "\n",
    "df['centroid_x'] = df['centroid_x'].apply(lambda x:float(x))\n",
    "df['centroid_y'] = df['centroid_y'].apply(lambda x:float(x))"
   ]
  },
  {
   "cell_type": "code",
   "execution_count": 21,
   "metadata": {},
   "outputs": [],
   "source": [
    "#copy df of 5 channel image\n",
    "df = df[['centroid_x',\n",
    "        'centroid_y',\n",
    "        'Nucleus: DRAQ5 Lambda mean',#nucleus\n",
    "        'Nucleus: EBFP2 Lambda mean',#blue\n",
    "        'Nucleus: Venus Lambda mean',#green\n",
    "        'Nucleus: T-sapphire Lambda mean',#cyan\n",
    "        'Nucleus: mOrange2 Lambda mean',#orange\n",
    "        'Nucleus: Katushka Lambda mean'#red\n",
    "        ]].copy()\n",
    "\n",
    "df = df.rename(columns = {'Nucleus: DRAQ5 Lambda mean':'channel_nucleus',\n",
    "                         'Nucleus: Venus Lambda mean':'channel_green',\n",
    "                         'Nucleus: EBFP2 Lambda mean':'channel_blue',\n",
    "                         'Nucleus: Katushka Lambda mean':'channel_red',\n",
    "                         'Nucleus: mOrange2 Lambda mean':'channel_orange',\n",
    "                         'Nucleus: T-sapphire Lambda mean':'channel_cyan'})"
   ]
  },
  {
   "cell_type": "code",
   "execution_count": 22,
   "metadata": {},
   "outputs": [],
   "source": [
    "#floor values in lowest n_tile to zero for each channel\n",
    "#could define normal distribution of channel values and floor < 2 SD?\n",
    "\n",
    "for column in ['channel_blue', 'channel_green', 'channel_cyan', 'channel_orange','channel_red']:\n",
    "    \n",
    "    n_tile = 20\n",
    "    \n",
    "    def floorValues(x):\n",
    "        max_value = df[column].max()\n",
    "        if x < max_value/n_tile:\n",
    "            return 0\n",
    "        else:\n",
    "            return x\n",
    "        \n",
    "    df[column] = df[column].apply(lambda x:floorValues(x))"
   ]
  },
  {
   "cell_type": "code",
   "execution_count": 23,
   "metadata": {},
   "outputs": [],
   "source": [
    "#calcuate channels as ratio of total cell magnitidue\n",
    "df['sum'] = df['channel_blue']+df['channel_green']+df['channel_cyan']+df['channel_orange']+df['channel_red']\n",
    "\n",
    "df['ratio_red'] = df['channel_red']/df['sum']\n",
    "df['ratio_green'] = df['channel_green']/df['sum']\n",
    "df['ratio_blue'] = df['channel_blue']/df['sum']\n",
    "df['ratio_cyan'] = df['channel_cyan']/df['sum']\n",
    "df['ratio_orange'] = df['channel_orange']/df['sum']\n",
    "\n",
    "#drop all rows where sum is equal to zero\n",
    "df = df[df['sum'] != 0].reset_index().drop(columns='index')"
   ]
  },
  {
   "cell_type": "code",
   "execution_count": 24,
   "metadata": {},
   "outputs": [],
   "source": [
    "#calcuate channels as fraction of max channel magnitude\n",
    "#may be useful for analysing not only ratio of channel labels but magnitude of channel value\n",
    "df['magnitude_red'] = df['channel_red']/df['channel_red'].max()\n",
    "df['magnitude_green'] = df['channel_green']/df['channel_green'].max()\n",
    "df['magnitude_blue'] = df['channel_blue']/df['channel_blue'].max()\n",
    "df['magnitude_cyan'] = df['channel_cyan']/df['channel_cyan'].max()\n",
    "df['magnitude_orange'] = df['channel_orange']/df['channel_orange'].max()"
   ]
  },
  {
   "cell_type": "code",
   "execution_count": 25,
   "metadata": {},
   "outputs": [],
   "source": [
    "#add cell_index for mapping\n",
    "df = df.reset_index()\n",
    "df.insert(0, 'cell_index', df['index'].apply(lambda x:'cell_'+str(x)))\n",
    "df = df.drop(columns='index')"
   ]
  },
  {
   "cell_type": "code",
   "execution_count": 26,
   "metadata": {},
   "outputs": [],
   "source": [
    "df.to_csv('test files/qupath_measures.csv',index=False)"
   ]
  },
  {
   "cell_type": "code",
   "execution_count": null,
   "metadata": {},
   "outputs": [],
   "source": []
  }
 ],
 "metadata": {
  "kernelspec": {
   "display_name": "Python 3",
   "language": "python",
   "name": "python3"
  },
  "language_info": {
   "codemirror_mode": {
    "name": "ipython",
    "version": 3
   },
   "file_extension": ".py",
   "mimetype": "text/x-python",
   "name": "python",
   "nbconvert_exporter": "python",
   "pygments_lexer": "ipython3",
   "version": "3.7.4"
  }
 },
 "nbformat": 4,
 "nbformat_minor": 4
}